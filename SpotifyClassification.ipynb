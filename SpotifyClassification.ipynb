{
 "cells": [
  {
   "cell_type": "markdown",
   "metadata": {},
   "source": [
    "# Spotify Classification\n",
    "## a.k.a How I can tell if I'll like a song or if it's too classical for me.\n",
    "For this (small) project, I use a simple KNN classifier to determine if I'd like a song. I use my top 50 (actually 47 in this case) songs as the \"good\" training set and the top 50 results for \"classical\" on Spotify for my \"bad\" training set."
   ]
  },
  {
   "cell_type": "code",
   "execution_count": null,
   "metadata": {},
   "outputs": [],
   "source": [
    "# I'm using spotipy to hook into the Spotify API and am using \n",
    "# pandas to manipulate the data with sklearn as my machine learning platform\n",
    "import spotipy\n",
    "import pandas as pd\n",
    "import spotipy.oauth2 as oauth2\n",
    "import sklearn\n",
    "from sklearn.neighbors import KNeighborsClassifier"
   ]
  },
  {
   "cell_type": "code",
   "execution_count": null,
   "metadata": {},
   "outputs": [],
   "source": [
    "# Information for the API to connect\n",
    "CLIENT_ID = \"\"\n",
    "CLIENT_SECRET = \"\"\n",
    "REDIRECT_URI = \"\"\n",
    "\n",
    "username = \"\"\n",
    "scope = \"user-top-read\""
   ]
  },
  {
   "cell_type": "code",
   "execution_count": null,
   "metadata": {},
   "outputs": [],
   "source": [
    "# Create the auth token (because I want my top songs)\n",
    "token = spotipy.util.prompt_for_user_token(username,scope,client_id=CLIENT_ID,client_secret=CLIENT_SECRET,redirect_uri=REDIRECT_URI)"
   ]
  },
  {
   "cell_type": "code",
   "execution_count": null,
   "metadata": {},
   "outputs": [],
   "source": [
    "# Hook into the API\n",
    "sp = spotipy.Spotify(auth = token)"
   ]
  },
  {
   "cell_type": "code",
   "execution_count": null,
   "metadata": {},
   "outputs": [],
   "source": [
    "# Grab my top tracks (this is just the query)\n",
    "top_tracks = sp.current_user_top_tracks(limit = 50)"
   ]
  },
  {
   "cell_type": "code",
   "execution_count": null,
   "metadata": {},
   "outputs": [],
   "source": [
    "# Get the actual tracks from the query\n",
    "top_tracks_items = top_tracks[\"items\"]"
   ]
  },
  {
   "cell_type": "code",
   "execution_count": null,
   "metadata": {},
   "outputs": [],
   "source": [
    "# Organize track IDs and names\n",
    "track_id_list = []\n",
    "track_name_list = []\n",
    "for track in top_tracks_items:\n",
    "    track_id = track[\"id\"]\n",
    "    track_name = track[\"name\"]\n",
    "    track_id_list.append(track_id)\n",
    "    track_name_list.append(track_name)"
   ]
  },
  {
   "cell_type": "code",
   "execution_count": null,
   "metadata": {},
   "outputs": [],
   "source": [
    "# Get feature list (for classification)\n",
    "track_features_list = sp.audio_features(track_id_list)"
   ]
  },
  {
   "cell_type": "code",
   "execution_count": null,
   "metadata": {},
   "outputs": [],
   "source": [
    "# Create DataFrame to store track information\n",
    "track_df = pd.DataFrame([track_id_list, track_name_list], index = [\"id\", \"name\"]).transpose()"
   ]
  },
  {
   "cell_type": "code",
   "execution_count": null,
   "metadata": {},
   "outputs": [],
   "source": [
    "# Create DataFrame to store track features\n",
    "track_features_df = pd.DataFrame(track_features_list, index = range(50))"
   ]
  },
  {
   "cell_type": "code",
   "execution_count": null,
   "metadata": {},
   "outputs": [],
   "source": [
    "# Combine track information with features by ID\n",
    "track_with_features_df = pd.merge(left = track_df, right = track_features_df, on=\"id\")"
   ]
  },
  {
   "cell_type": "code",
   "execution_count": null,
   "metadata": {},
   "outputs": [],
   "source": [
    "# Remove duplicates which somehow got in\n",
    "track_cleaned_df = track_with_features_df.drop_duplicates().set_index(\"id\")"
   ]
  },
  {
   "cell_type": "code",
   "execution_count": null,
   "metadata": {},
   "outputs": [],
   "source": [
    "# Look for \"bad\" tracks\n",
    "bad_tracks = (sp.search(\"classical\", limit = 50)[\"tracks\"][\"items\"])"
   ]
  },
  {
   "cell_type": "code",
   "execution_count": null,
   "metadata": {},
   "outputs": [],
   "source": [
    "# Organize bad tracks\n",
    "bad_track_id_list = []\n",
    "bad_track_name_list = []\n",
    "for track in bad_tracks:\n",
    "    track_id = track[\"id\"]\n",
    "    track_name = track[\"name\"]\n",
    "    bad_track_id_list.append(track_id)\n",
    "    bad_track_name_list.append(track_name)"
   ]
  },
  {
   "cell_type": "code",
   "execution_count": null,
   "metadata": {},
   "outputs": [],
   "source": [
    "# Grab bad track features for classification\n",
    "bad_track_features_list = sp.audio_features(bad_track_id_list)"
   ]
  },
  {
   "cell_type": "code",
   "execution_count": null,
   "metadata": {},
   "outputs": [],
   "source": [
    "# Create bad track information DataFrame\n",
    "bad_track_df = pd.DataFrame([bad_track_id_list, bad_track_name_list], index = [\"id\", \"name\"]).transpose()"
   ]
  },
  {
   "cell_type": "code",
   "execution_count": null,
   "metadata": {},
   "outputs": [],
   "source": [
    "# Create bad track feature DataFrame\n",
    "bad_track_features_df = pd.DataFrame(bad_track_features_list, index = range(50))"
   ]
  },
  {
   "cell_type": "code",
   "execution_count": null,
   "metadata": {},
   "outputs": [],
   "source": [
    "# Combine bad track DataFrames\n",
    "bad_track_with_features_df = pd.merge(left = bad_track_df, right = bad_track_features_df, on=\"id\")"
   ]
  },
  {
   "cell_type": "code",
   "execution_count": null,
   "metadata": {},
   "outputs": [],
   "source": [
    "# Clean up duplicates\n",
    "bad_track_cleaned_df = bad_track_with_features_df.drop_duplicates().set_index(\"id\")"
   ]
  },
  {
   "cell_type": "code",
   "execution_count": null,
   "metadata": {},
   "outputs": [],
   "source": [
    "# Generate predictors for \"good\" tracks\n",
    "track_predictors = track_cleaned_df[[\"danceability\", \"energy\", \"instrumentalness\", \"liveness\", \"loudness\", \"speechiness\", \"valence\"]]"
   ]
  },
  {
   "cell_type": "code",
   "execution_count": null,
   "metadata": {},
   "outputs": [],
   "source": [
    "# Generate predictors for \"bad\" tracks\n",
    "bad_track_predictors = bad_track_cleaned_df[[\"danceability\", \"energy\", \"instrumentalness\", \"liveness\", \"loudness\", \"speechiness\", \"valence\"]]"
   ]
  },
  {
   "cell_type": "code",
   "execution_count": null,
   "metadata": {},
   "outputs": [],
   "source": [
    "# Initialize classifier and fit it\n",
    "classifier = KNeighborsClassifier()\n",
    "classifier.fit(pd.concat([track_predictors, bad_track_predictors]), [1] * 47 + [0] * 50) # For some reason, there were only 47 \"good\" tracks"
   ]
  },
  {
   "cell_type": "code",
   "execution_count": null,
   "metadata": {},
   "outputs": [],
   "source": [
    "# Search for test track (first item)\n",
    "test_track = sp.search(\"Bach\")[\"tracks\"][\"items\"][0]"
   ]
  },
  {
   "cell_type": "code",
   "execution_count": null,
   "metadata": {},
   "outputs": [],
   "source": [
    "# Organize test track\n",
    "test_df = pd.DataFrame(sp.audio_features(test_track[\"id\"]))"
   ]
  },
  {
   "cell_type": "code",
   "execution_count": null,
   "metadata": {},
   "outputs": [],
   "source": [
    "# Create test track feature list\n",
    "test_item = test_df[[\"danceability\", \"energy\", \"instrumentalness\", \"liveness\", \"loudness\", \"speechiness\", \"valence\"]]"
   ]
  },
  {
   "cell_type": "code",
   "execution_count": null,
   "metadata": {},
   "outputs": [],
   "source": [
    "# Predict based on test track (1 = Good, 0 = Bad)\n",
    "classifier.predict(test_item)"
   ]
  }
 ],
 "metadata": {
  "kernelspec": {
   "display_name": "Python 3.6",
   "language": "python",
   "name": "python36"
  },
  "language_info": {
   "codemirror_mode": {
    "name": "ipython",
    "version": 3
   },
   "file_extension": ".py",
   "mimetype": "text/x-python",
   "name": "python",
   "nbconvert_exporter": "python",
   "pygments_lexer": "ipython3",
   "version": "3.6.3"
  }
 },
 "nbformat": 4,
 "nbformat_minor": 2
}
